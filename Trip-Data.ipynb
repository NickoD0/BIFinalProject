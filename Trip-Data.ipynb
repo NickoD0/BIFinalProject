{
 "cells": [
  {
   "cell_type": "markdown",
   "metadata": {},
   "source": [
    "# POGOH Trip Data\n",
    "## Introduction"
   ]
  },
  {
   "cell_type": "markdown",
   "metadata": {},
   "source": [
    "This dataset analyzes trip data from POGOH bikes around Pittsburgh. We will use this datset to develop a conclusion on what the best neighborhood in Pittsburgh is for biking."
   ]
  },
  {
   "cell_type": "markdown",
   "metadata": {},
   "source": [
    "## Metric "
   ]
  },
  {
   "cell_type": "markdown",
   "metadata": {},
   "source": [
    "My metric describes the data that the POGOH bikes in Pittsburgh collect from their riders,  including the status of the bike station, duration of their ride, the station they started and ended at, and how long they were riding for. I will use the information from the start and end stations of the most frequetly used POGOH stations to see which neighborhood has the most bikers. "
   ]
  },
  {
   "cell_type": "markdown",
   "metadata": {},
   "source": [
    "First, I am going to produce the list of the names of the start and end stations. "
   ]
  },
  {
   "cell_type": "code",
   "execution_count": 18,
   "metadata": {},
   "outputs": [
    {
     "data": {
      "text/html": [
       "<div>\n",
       "<style scoped>\n",
       "    .dataframe tbody tr th:only-of-type {\n",
       "        vertical-align: middle;\n",
       "    }\n",
       "\n",
       "    .dataframe tbody tr th {\n",
       "        vertical-align: top;\n",
       "    }\n",
       "\n",
       "    .dataframe thead th {\n",
       "        text-align: right;\n",
       "    }\n",
       "</style>\n",
       "<table border=\"1\" class=\"dataframe\">\n",
       "  <thead>\n",
       "    <tr style=\"text-align: right;\">\n",
       "      <th></th>\n",
       "      <th>Start Station Name</th>\n",
       "      <th>End Station Name</th>\n",
       "    </tr>\n",
       "  </thead>\n",
       "  <tbody>\n",
       "    <tr>\n",
       "      <th>0</th>\n",
       "      <td>Wilkinsburg Park &amp; Ride</td>\n",
       "      <td>N Braddock Ave &amp; Frankstown Ave</td>\n",
       "    </tr>\n",
       "    <tr>\n",
       "      <th>1</th>\n",
       "      <td>Wilkinsburg Park &amp; Ride</td>\n",
       "      <td>N Braddock Ave &amp; Frankstown Ave</td>\n",
       "    </tr>\n",
       "    <tr>\n",
       "      <th>2</th>\n",
       "      <td>Wilkinsburg Park &amp; Ride</td>\n",
       "      <td>N Braddock Ave &amp; Frankstown Ave</td>\n",
       "    </tr>\n",
       "    <tr>\n",
       "      <th>3</th>\n",
       "      <td>Wilkinsburg Park &amp; Ride</td>\n",
       "      <td>Wilkinsburg Park &amp; Ride</td>\n",
       "    </tr>\n",
       "    <tr>\n",
       "      <th>4</th>\n",
       "      <td>Wilkinsburg Park &amp; Ride</td>\n",
       "      <td>N Braddock Ave &amp; Frankstown Ave</td>\n",
       "    </tr>\n",
       "    <tr>\n",
       "      <th>...</th>\n",
       "      <td>...</td>\n",
       "      <td>...</td>\n",
       "    </tr>\n",
       "    <tr>\n",
       "      <th>38080</th>\n",
       "      <td>Pierce St &amp; Summerlea St</td>\n",
       "      <td>Boulevard of the Allies &amp; Parkview Ave</td>\n",
       "    </tr>\n",
       "    <tr>\n",
       "      <th>38081</th>\n",
       "      <td>Pierce St &amp; Summerlea St</td>\n",
       "      <td>Pierce St &amp; Summerlea St</td>\n",
       "    </tr>\n",
       "    <tr>\n",
       "      <th>38082</th>\n",
       "      <td>Pierce St &amp; Summerlea St</td>\n",
       "      <td>O'Hara St and University Place</td>\n",
       "    </tr>\n",
       "    <tr>\n",
       "      <th>38083</th>\n",
       "      <td>Pierce St &amp; Summerlea St</td>\n",
       "      <td>Schenley Dr &amp; Schenley Dr Ext</td>\n",
       "    </tr>\n",
       "    <tr>\n",
       "      <th>38084</th>\n",
       "      <td>Pierce St &amp; Summerlea St</td>\n",
       "      <td>Burns White Center at 3 Crossings</td>\n",
       "    </tr>\n",
       "  </tbody>\n",
       "</table>\n",
       "<p>38085 rows × 2 columns</p>\n",
       "</div>"
      ],
      "text/plain": [
       "             Start Station Name                        End Station Name\n",
       "0       Wilkinsburg Park & Ride         N Braddock Ave & Frankstown Ave\n",
       "1       Wilkinsburg Park & Ride         N Braddock Ave & Frankstown Ave\n",
       "2       Wilkinsburg Park & Ride         N Braddock Ave & Frankstown Ave\n",
       "3       Wilkinsburg Park & Ride                 Wilkinsburg Park & Ride\n",
       "4       Wilkinsburg Park & Ride         N Braddock Ave & Frankstown Ave\n",
       "...                         ...                                     ...\n",
       "38080  Pierce St & Summerlea St  Boulevard of the Allies & Parkview Ave\n",
       "38081  Pierce St & Summerlea St                Pierce St & Summerlea St\n",
       "38082  Pierce St & Summerlea St          O'Hara St and University Place\n",
       "38083  Pierce St & Summerlea St           Schenley Dr & Schenley Dr Ext\n",
       "38084  Pierce St & Summerlea St       Burns White Center at 3 Crossings\n",
       "\n",
       "[38085 rows x 2 columns]"
      ]
     },
     "execution_count": 18,
     "metadata": {},
     "output_type": "execute_result"
    }
   ],
   "source": [
    "import pandas as pd\n",
    "pogoh = pd.read_csv(\"pogoh.csv\")\n",
    "\n",
    "pogoh[['Start Station Name', 'End Station Name']]\n"
   ]
  },
  {
   "cell_type": "markdown",
   "metadata": {},
   "source": [
    "I'm then going to count how many times a start and end station is repeated. "
   ]
  },
  {
   "cell_type": "code",
   "execution_count": 19,
   "metadata": {},
   "outputs": [
    {
     "data": {
      "text/plain": [
       "S Bouquet Ave & Sennott St                  4462\n",
       "Boulevard of the Allies & Parkview Ave      2932\n",
       "Atwood St & Bates St                        2774\n",
       "Forbes Ave & Schenley Dr                    2627\n",
       "N Dithridge St & Centre Ave                 2539\n",
       "O'Hara St and University Place              2346\n",
       "Zulema St & Coltart Ave                     1954\n",
       "Allequippa St & Darragh St                  1668\n",
       "Coltart Ave & Forbes Ave                    1458\n",
       "Fifth Ave & S Bouquet St                    1175\n",
       "Schenley Dr & Schenley Dr Ext               1084\n",
       "S Millvale Ave & Centre Ave                  933\n",
       "S 27th St & Sidney St. (Southside Works)     899\n",
       "Ivy St & Walnut St                           749\n",
       "Forbes Ave at TCS Hall (CMU Campus)          748\n",
       "S Negley Ave & Centre Ave                    563\n",
       "Ellsworth Ave & N Neville St                 544\n",
       "Technology Dr & Bates St                     538\n",
       "Liberty Ave & Gross St                       448\n",
       "Forbes Ave & Market Square                   378\n",
       "7th St & Penn Ave                            376\n",
       "Taylor St & Liberty Ave                      363\n",
       "Shady Ave & Ellsworth Ave                    353\n",
       "10th St & Penn Ave                           352\n",
       "Penn Ave & S Whitfield St                    327\n",
       "Liberty Ave & Stanwix St                     300\n",
       "42nd St & Butler St                          294\n",
       "First Ave & B St                             286\n",
       "21st St & Penn Ave                           278\n",
       "North Shore Trail & Fort Duquesne Bridge     276\n",
       "S 22nd St & Sidney St                        273\n",
       "Ross St & Fourth Ave                         263\n",
       "Penn Ave & 33rd St                           249\n",
       "Pierce St & Summerlea St                     248\n",
       "S 12th St & E Carson St                      244\n",
       "W North Ave & Federal St                     238\n",
       "Burns White Center at 3 Crossings            231\n",
       "17th St & Penn Ave                           224\n",
       "Penn Ave & Putnam St (Bakery Square)         212\n",
       "W Station Square Dr & Bessemer Court         211\n",
       "Glasshouse                                   208\n",
       "South Side Trail & S 4th St                  207\n",
       "Butler St & 36th St                          188\n",
       "Penn Ave & S Pacific Ave                     179\n",
       "Eliza Furnace Trail & Swineburne St          164\n",
       "Allegheny Station                            145\n",
       "52nd St & Butler St                          136\n",
       "W Ohio St & Brighton Rd                       84\n",
       "Brighton Rd & Pennsylvania Ave                53\n",
       "Hamilton Ave & Fifth Ave                      46\n",
       "Rosetta St & N Aiken Ave                      41\n",
       "Bedford Ave & Memory Ln                       33\n",
       "Tioga St & N Homewood Ave                     30\n",
       "Centre Ave & Addison St                       27\n",
       "Centre Ave & Heldman St                       27\n",
       "N Braddock Ave & Frankstown Ave               27\n",
       "Wilkinsburg Park & Ride                       24\n",
       "Second Ave & Tecumseh St                      23\n",
       "N Braddock Ave & Hamilton Ave                 20\n",
       "Eliza St & Lytle St                            6\n",
       "Name: Start Station Name, dtype: int64"
      ]
     },
     "execution_count": 19,
     "metadata": {},
     "output_type": "execute_result"
    }
   ],
   "source": [
    "pogoh['Start Station Name'].value_counts()"
   ]
  },
  {
   "cell_type": "code",
   "execution_count": 20,
   "metadata": {},
   "outputs": [
    {
     "data": {
      "text/plain": [
       "S Bouquet Ave & Sennott St                  4581\n",
       "Boulevard of the Allies & Parkview Ave      2862\n",
       "Forbes Ave & Schenley Dr                    2797\n",
       "Atwood St & Bates St                        2701\n",
       "O'Hara St and University Place              2543\n",
       "N Dithridge St & Centre Ave                 2208\n",
       "Zulema St & Coltart Ave                     2015\n",
       "Coltart Ave & Forbes Ave                    1448\n",
       "Allequippa St & Darragh St                  1315\n",
       "Fifth Ave & S Bouquet St                    1114\n",
       "Schenley Dr & Schenley Dr Ext               1110\n",
       "S 27th St & Sidney St. (Southside Works)     968\n",
       "S Millvale Ave & Centre Ave                  932\n",
       "Forbes Ave at TCS Hall (CMU Campus)          767\n",
       "Ivy St & Walnut St                           765\n",
       "Technology Dr & Bates St                     585\n",
       "S Negley Ave & Centre Ave                    565\n",
       "Ellsworth Ave & N Neville St                 543\n",
       "7th St & Penn Ave                            389\n",
       "Liberty Ave & Gross St                       379\n",
       "Shady Ave & Ellsworth Ave                    372\n",
       "Forbes Ave & Market Square                   364\n",
       "Taylor St & Liberty Ave                      361\n",
       "10th St & Penn Ave                           350\n",
       "42nd St & Butler St                          336\n",
       "Penn Ave & S Whitfield St                    331\n",
       "S 22nd St & Sidney St                        318\n",
       "Liberty Ave & Stanwix St                     301\n",
       "Penn Ave & Putnam St (Bakery Square)         283\n",
       "North Shore Trail & Fort Duquesne Bridge     268\n",
       "Penn Ave & 33rd St                           267\n",
       "S 12th St & E Carson St                      263\n",
       "W North Ave & Federal St                     262\n",
       "21st St & Penn Ave                           260\n",
       "First Ave & B St                             258\n",
       "Ross St & Fourth Ave                         257\n",
       "17th St & Penn Ave                           247\n",
       "Burns White Center at 3 Crossings            237\n",
       "Glasshouse                                   233\n",
       "Pierce St & Summerlea St                     226\n",
       "South Side Trail & S 4th St                  217\n",
       "W Station Square Dr & Bessemer Court         200\n",
       "Butler St & 36th St                          188\n",
       "Penn Ave & S Pacific Ave                     184\n",
       "52nd St & Butler St                          162\n",
       "Eliza Furnace Trail & Swineburne St          156\n",
       "Allegheny Station                            152\n",
       "W Ohio St & Brighton Rd                       77\n",
       "Brighton Rd & Pennsylvania Ave                60\n",
       "Hamilton Ave & Fifth Ave                      50\n",
       "Wilkinsburg Park & Ride                       41\n",
       "Second Ave & Tecumseh St                      36\n",
       "Centre Ave & Addison St                       33\n",
       "N Braddock Ave & Frankstown Ave               31\n",
       "Tioga St & N Homewood Ave                     24\n",
       "Bedford Ave & Memory Ln                       21\n",
       "Rosetta St & N Aiken Ave                      21\n",
       "Centre Ave & Heldman St                       20\n",
       "N Braddock Ave & Hamilton Ave                 17\n",
       "Eliza St & Lytle St                            6\n",
       "Name: End Station Name, dtype: int64"
      ]
     },
     "execution_count": 20,
     "metadata": {},
     "output_type": "execute_result"
    }
   ],
   "source": [
    "pogoh['End Station Name'].value_counts()"
   ]
  },
  {
   "cell_type": "markdown",
   "metadata": {},
   "source": [
    "Using this info, I organized the data into two graphs that show the top 5 most used start and end POGOH stations. "
   ]
  },
  {
   "cell_type": "code",
   "execution_count": 21,
   "metadata": {},
   "outputs": [
    {
     "data": {
      "text/plain": [
       "<matplotlib.axes._subplots.AxesSubplot at 0x7f7548597c70>"
      ]
     },
     "execution_count": 21,
     "metadata": {},
     "output_type": "execute_result"
    },
    {
     "data": {
      "image/png": "[encoded data removed]",
      "text/plain": [
       "<Figure size 432x288 with 1 Axes>"
      ]
     },
     "metadata": {
      "needs_background": "light"
     },
     "output_type": "display_data"
    }
   ],
   "source": [
    "counts = pogoh['Start Station Name'].value_counts()\n",
    "top5 = counts.sort_values(ascending=False).head(5)\n",
    "\n",
    "import numpy as np\n",
    "%matplotlib inline\n",
    "import matplotlib.pyplot as plt\n",
    "\n",
    "pogoh[\"Start Station Name\"].value_counts().sort_index().loc[top5.index].plot(kind='bar', rot=90)"
   ]
  },
  {
   "cell_type": "code",
   "execution_count": 22,
   "metadata": {},
   "outputs": [
    {
     "data": {
      "text/plain": [
       "<matplotlib.axes._subplots.AxesSubplot at 0x7f757e5b8c40>"
      ]
     },
     "execution_count": 22,
     "metadata": {},
     "output_type": "execute_result"
    },
    {
     "data": {
      "image/png": "[encoded data removed]",
      "text/plain": [
       "<Figure size 432x288 with 1 Axes>"
      ]
     },
     "metadata": {
      "needs_background": "light"
     },
     "output_type": "display_data"
    }
   ],
   "source": [
    "counts = pogoh['End Station Name'].value_counts()\n",
    "bottom5 = counts.sort_values(ascending=False).head(5)\n",
    "\n",
    "pogoh[\"End Station Name\"].value_counts().sort_index().loc[bottom5.index].plot(kind='bar', rot=90)"
   ]
  },
  {
   "cell_type": "markdown",
   "metadata": {},
   "source": [
    "Using this information I will look up what neighborhood each bike station is located in. \n",
    "\n",
    "| Rank | Start Station Name                        | Neighborhood   |\n",
    "|------|-----------------------------------------|------------------|\n",
    "| 1    | S  Bouquet Ave & Sennott St             | Oakland          |\n",
    "| 2    | Boulevard of the Allies & Parkview Ave  | Oakland          |\n",
    "| 3    | Atwood St. & Bates St.                  | Oakland          |\n",
    "| 4    | Forbes Ave & Schenley Dr                | Oakland          |\n",
    "| 1    | N Dithridge St. & Centre Ave.           | Oakland          |\n",
    "\n",
    "| Rank | End Station Name                        | Neighborhood     |\n",
    "|------|-----------------------------------------|------------------|\n",
    "| 1    | S  Bouquet Ave & Sennott St             | Oakland          |\n",
    "| 2    | Boulevard of the Allies & Parkview Ave  | Oakland          |\n",
    "| 3    | Forbes Ave & Schenley Dr                | Oakland          |\n",
    "| 4    | Atwood St. & Bates St.                  | Oakland          |\n",
    "| 1    | O'Hara St. and University Place         | Oakland          |\n"
   ]
  },
  {
   "cell_type": "markdown",
   "metadata": {},
   "source": [
    "Therefore, using my data, it is shown that Oakland is the most frequntly used neighborhood to bike in. It is most likely due to the multiple colleges in Oakland and students need easy access to transportation in order to get from place to place. And so, from my dataset I can conclude that Oakland is the ebst neighborhood in Pittsburgh due to having the most used bike stations."
   ]
  }
 ],
 "metadata": {
  "kernelspec": {
   "display_name": "Python 3",
   "language": "python",
   "name": "python3"
  },
  "language_info": {
   "codemirror_mode": {
    "name": "ipython",
    "version": 3
   },
   "file_extension": ".py",
   "mimetype": "text/x-python",
   "name": "python",
   "nbconvert_exporter": "python",
   "pygments_lexer": "ipython3",
   "version": "3.8.3"
  }
 },
 "nbformat": 4,
 "nbformat_minor": 4
}
